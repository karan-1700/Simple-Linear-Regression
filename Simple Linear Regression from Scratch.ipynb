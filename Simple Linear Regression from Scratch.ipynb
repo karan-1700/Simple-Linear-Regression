{
 "cells": [
  {
   "cell_type": "markdown",
   "metadata": {},
   "source": [
    "# SIMPLE LINEAR REGRESSION \n",
    "### FROM SCRATCH\n",
    "   USING PYTHON"
   ]
  },
  {
   "cell_type": "markdown",
   "metadata": {},
   "source": [
    "Using the dataset -- Years of Experience V/S Salary"
   ]
  },
  {
   "cell_type": "code",
   "execution_count": 1,
   "metadata": {},
   "outputs": [],
   "source": [
    "# importing Libraries\n",
    "import numpy as np      # for working with arrays\n",
    "import pandas as pd     # for dealing with DataFrames\n",
    "import matplotlib.pyplot as plt     # for Data Visualisation"
   ]
  },
  {
   "cell_type": "code",
   "execution_count": 2,
   "metadata": {},
   "outputs": [
    {
     "name": "stdout",
     "output_type": "stream",
     "text": [
      "<class 'pandas.core.frame.DataFrame'>\n"
     ]
    }
   ],
   "source": [
    "# loading the Training Dataset into Pandas.DataFrame\n",
    "df = pd.read_csv(\"G://machine learning//SalaryData_Train.csv\")\n",
    "print(type(df))"
   ]
  },
  {
   "cell_type": "code",
   "execution_count": 4,
   "metadata": {
    "collapsed": true
   },
   "outputs": [
    {
     "data": {
      "text/html": [
       "<div>\n",
       "<style scoped>\n",
       "    .dataframe tbody tr th:only-of-type {\n",
       "        vertical-align: middle;\n",
       "    }\n",
       "\n",
       "    .dataframe tbody tr th {\n",
       "        vertical-align: top;\n",
       "    }\n",
       "\n",
       "    .dataframe thead th {\n",
       "        text-align: right;\n",
       "    }\n",
       "</style>\n",
       "<table border=\"1\" class=\"dataframe\">\n",
       "  <thead>\n",
       "    <tr style=\"text-align: right;\">\n",
       "      <th></th>\n",
       "      <th>years</th>\n",
       "      <th>salary</th>\n",
       "    </tr>\n",
       "  </thead>\n",
       "  <tbody>\n",
       "    <tr>\n",
       "      <th>0</th>\n",
       "      <td>1.1</td>\n",
       "      <td>39343</td>\n",
       "    </tr>\n",
       "    <tr>\n",
       "      <th>1</th>\n",
       "      <td>1.3</td>\n",
       "      <td>46205</td>\n",
       "    </tr>\n",
       "    <tr>\n",
       "      <th>2</th>\n",
       "      <td>1.5</td>\n",
       "      <td>37731</td>\n",
       "    </tr>\n",
       "    <tr>\n",
       "      <th>3</th>\n",
       "      <td>2.0</td>\n",
       "      <td>43525</td>\n",
       "    </tr>\n",
       "    <tr>\n",
       "      <th>4</th>\n",
       "      <td>2.2</td>\n",
       "      <td>39891</td>\n",
       "    </tr>\n",
       "    <tr>\n",
       "      <th>5</th>\n",
       "      <td>2.9</td>\n",
       "      <td>56642</td>\n",
       "    </tr>\n",
       "    <tr>\n",
       "      <th>6</th>\n",
       "      <td>3.0</td>\n",
       "      <td>60150</td>\n",
       "    </tr>\n",
       "    <tr>\n",
       "      <th>7</th>\n",
       "      <td>3.2</td>\n",
       "      <td>54445</td>\n",
       "    </tr>\n",
       "    <tr>\n",
       "      <th>8</th>\n",
       "      <td>3.2</td>\n",
       "      <td>64445</td>\n",
       "    </tr>\n",
       "    <tr>\n",
       "      <th>9</th>\n",
       "      <td>3.7</td>\n",
       "      <td>57189</td>\n",
       "    </tr>\n",
       "  </tbody>\n",
       "</table>\n",
       "</div>"
      ],
      "text/plain": [
       "   years  salary\n",
       "0    1.1   39343\n",
       "1    1.3   46205\n",
       "2    1.5   37731\n",
       "3    2.0   43525\n",
       "4    2.2   39891\n",
       "5    2.9   56642\n",
       "6    3.0   60150\n",
       "7    3.2   54445\n",
       "8    3.2   64445\n",
       "9    3.7   57189"
      ]
     },
     "execution_count": 4,
     "metadata": {},
     "output_type": "execute_result"
    }
   ],
   "source": [
    "df.head(10) # prints the first 10 Rows from the dataset"
   ]
  },
  {
   "cell_type": "code",
   "execution_count": 37,
   "metadata": {},
   "outputs": [
    {
     "name": "stdout",
     "output_type": "stream",
     "text": [
      "(30, 2)\n"
     ]
    }
   ],
   "source": [
    "# Printing the Shape of Dataset\n",
    "print(df.shape)"
   ]
  },
  {
   "cell_type": "code",
   "execution_count": 21,
   "metadata": {
    "scrolled": true
   },
   "outputs": [
    {
     "data": {
      "image/png": "[encoded data removed]",
      "text/plain": [
       "<Figure size 432x288 with 1 Axes>"
      ]
     },
     "metadata": {
      "needs_background": "light"
     },
     "output_type": "display_data"
    }
   ],
   "source": [
    "# Visualising the data\n",
    "plt.plot(df[\"years\"],df[\"salary\"],\"o\")   # creates a Scatter Plot\n",
    "plt.xlabel(\"Years of Experience\")\n",
    "plt.ylabel(\"Salary (rs)\")\n",
    "plt.legend([\"Data Points\"])\n",
    "plt.title(\"Years of Experience VS Salary Plot\")\n",
    "plt.grid()\n",
    "plt.show()"
   ]
  },
  {
   "cell_type": "code",
   "execution_count": 22,
   "metadata": {},
   "outputs": [
    {
     "name": "stdout",
     "output_type": "stream",
     "text": [
      "m =  9449.962321455077 \t c =  25792.20019866869\n",
      "\n",
      "The Equation of the Regression Line generated is : \n",
      "\n",
      "y =  9449.962321455077 * x  +  25792.20019866869\n"
     ]
    }
   ],
   "source": [
    "x = df[\"years\"]  # independent variable\n",
    "y = df['salary']  # dependent variable\n",
    "\n",
    "x_mean = np.mean(x)\n",
    "y_mean = np.mean(y)\n",
    "\n",
    "n = len(x)   # number of rows in the dataset\n",
    "\n",
    "# Regression Formula\n",
    "# Open this link  --  https://i.stack.imgur.com/lYevl.gif\n",
    "# Image Source -- Stack Exchange\n",
    "num = 0\n",
    "den = 0\n",
    "for i in range(n):\n",
    "        num += (x[i]-x_mean)*(y[i]-y_mean)\n",
    "        den += (x[i]-x_mean)**2\n",
    "        \n",
    "# m --> slope\n",
    "# c --> y-intercept\n",
    "# General Equation of Line --> y = m*x + c\n",
    "\n",
    "m = num/den\n",
    "c = y_mean - m*x_mean\n",
    "\n",
    "print (\"m = \",m,'\\t',\"c = \",c)\n",
    "print(\"\\nThe Equation of the Regression Line generated is : \\n\")\n",
    "print(\"y = \", m, \"*\",\"x\", \" + \", c)"
   ]
  },
  {
   "cell_type": "code",
   "execution_count": 23,
   "metadata": {},
   "outputs": [
    {
     "data": {
      "text/plain": [
       "array([ 36187.15875227,  38077.15121656,  39967.14368085,  44692.12484158,\n",
       "        46582.11730587,  53197.09093089,  54142.08716303,  56032.07962732,\n",
       "        56032.07962732,  60757.06078805,  62647.05325234,  63592.04948449,\n",
       "        63592.04948449,  64537.04571663,  68317.03064522,  72097.0155738 ,\n",
       "        73987.00803809,  75877.00050238,  81546.97789525,  82491.9741274 ,\n",
       "        90051.94398456,  92886.932681  , 100446.90253816, 103281.8912346 ,\n",
       "       108006.87239533, 110841.86109176, 115566.84225249, 116511.83848464,\n",
       "       123126.81210966, 125016.80457395])"
      ]
     },
     "execution_count": 23,
     "metadata": {},
     "output_type": "execute_result"
    }
   ],
   "source": [
    "y_pred = np.array(m*x+c)\n",
    "y_pred"
   ]
  },
  {
   "cell_type": "code",
   "execution_count": 24,
   "metadata": {},
   "outputs": [
    {
     "data": {
      "image/png": "[encoded data removed]",
      "text/plain": [
       "<Figure size 432x288 with 1 Axes>"
      ]
     },
     "metadata": {
      "needs_background": "light"
     },
     "output_type": "display_data"
    }
   ],
   "source": [
    "# Data Visualisation\n",
    "plt.scatter(x,y_pred,color='r')  \n",
    "plt.scatter(x,y,color='g')\n",
    "plt.plot(x,y_pred,color='b')\n",
    "plt.xlabel(\"Years of Experience\")\n",
    "plt.ylabel(\"Salary (Rs)\")\n",
    "plt.title(\"Years of Experience V/S Salary\")\n",
    "plt.legend([\"Regression Line\",\"Predicted Data Points\",\"Data Points\"])\n",
    "plt.grid()\n",
    "plt.show()"
   ]
  },
  {
   "cell_type": "code",
   "execution_count": 26,
   "metadata": {},
   "outputs": [
    {
     "name": "stdout",
     "output_type": "stream",
     "text": [
      "0.9569566641435084\n"
     ]
    }
   ],
   "source": [
    "# Calculating the Root Mean Squared Error (RMSE)\n",
    "# Gives the Idea about : \n",
    "#  -- How far from the regression line data points are\n",
    "#  -- It tells you how concentrated the data is around the line of best fit.\n",
    "numerator = 0\n",
    "denominator = 0\n",
    "for i in range(n):\n",
    "    numerator += (y_pred[i] - y_mean)**2\n",
    "    denominator += (y[i] - y_mean)**2\n",
    "    \n",
    "rmse = numerator/denominator\n",
    "print (rmse)"
   ]
  },
  {
   "cell_type": "code",
   "execution_count": 28,
   "metadata": {},
   "outputs": [
    {
     "name": "stdout",
     "output_type": "stream",
     "text": [
      "   years  salary\n",
      "0    3.3     NaN\n",
      "1    3.5     NaN\n",
      "2    7.8     NaN\n",
      "3    9.0     NaN\n",
      "4   10.0     NaN\n",
      "5    6.0     NaN\n"
     ]
    }
   ],
   "source": [
    "# Loading the Testing Dataset\n",
    "df_test = pd.read_csv(\"G:/machine learning/SalaryData_Test.csv\")\n",
    "\n",
    "# The column for Salary will be empty \n",
    "# i.e. in Python, it will be having null value.\n",
    "print(df_test)"
   ]
  },
  {
   "cell_type": "code",
   "execution_count": 30,
   "metadata": {},
   "outputs": [],
   "source": [
    "# Using the Regression Line for predicting the Test-Data values\n",
    "test_x = df_test[\"years\"]\n",
    "test_y = df_test[\"salary\"]\n",
    "\n",
    "test_y = m*test_x + c"
   ]
  },
  {
   "cell_type": "code",
   "execution_count": 32,
   "metadata": {},
   "outputs": [
    {
     "data": {
      "text/plain": [
       "<matplotlib.collections.PathCollection at 0xd5e6ab0>"
      ]
     },
     "execution_count": 32,
     "metadata": {},
     "output_type": "execute_result"
    },
    {
     "data": {
      "image/png": "[encoded data removed]",
      "text/plain": [
       "<Figure size 432x288 with 1 Axes>"
      ]
     },
     "metadata": {
      "needs_background": "light"
     },
     "output_type": "display_data"
    }
   ],
   "source": [
    "# Visualising the Data Graphically\n",
    "plt.plot(x,y_pred, color='b')\n",
    "plt.scatter(test_x,test_y,color='r')\n"
   ]
  },
  {
   "cell_type": "code",
   "execution_count": 34,
   "metadata": {},
   "outputs": [
    {
     "name": "stdout",
     "output_type": "stream",
     "text": [
      "   years         salary\n",
      "0    3.3   56977.075859\n",
      "1    3.5   58867.068324\n",
      "2    7.8   99501.906306\n",
      "3    9.0  110841.861092\n",
      "4   10.0  120291.823413\n",
      "5    6.0   82491.974127\n"
     ]
    }
   ],
   "source": [
    "# Printing the Predicted Values\n",
    "df_test['salary'] = test_y\n",
    "print(df_test)"
   ]
  },
  {
   "cell_type": "markdown",
   "metadata": {},
   "source": [
    "### Made By : Karansinh Padhiar"
   ]
  }
 ],
 "metadata": {
  "kernelspec": {
   "display_name": "Python 3",
   "language": "python",
   "name": "python3"
  },
  "language_info": {
   "codemirror_mode": {
    "name": "ipython",
    "version": 3
   },
   "file_extension": ".py",
   "mimetype": "text/x-python",
   "name": "python",
   "nbconvert_exporter": "python",
   "pygments_lexer": "ipython3",
   "version": "3.7.4"
  }
 },
 "nbformat": 4,
 "nbformat_minor": 2
}
